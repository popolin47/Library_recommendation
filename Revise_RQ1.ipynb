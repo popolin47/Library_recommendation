{
 "cells": [
  {
   "cell_type": "code",
   "id": "initial_id",
   "metadata": {
    "collapsed": true,
    "ExecuteTime": {
     "end_time": "2025-10-28T07:33:11.449584Z",
     "start_time": "2025-10-28T07:33:11.427151Z"
    }
   },
   "source": [
    "import pandas as pd\n",
    "\n",
    "# Define temperature values to loop through\n",
    "temps = [0.2, 0.5, 0.7]\n",
    "\n",
    "for t in temps:\n",
    "    # Build the file path dynamically\n",
    "    path = f\"Result_RQ2/{t}_RQ2_similarity.csv\"\n",
    "\n",
    "    # Load CSV\n",
    "    df = pd.read_csv(path)\n",
    "\n",
    "    # Group by Source and calculate mean similarity\n",
    "    avg_sim_by_source = df.groupby(\"Source\")[\"Mean_Cosine_Similarity\"].mean()\n",
    "\n",
    "    # Print results\n",
    "    print(f\"\\nTemperature {t}\")\n",
    "    for tier, value in avg_sim_by_source.items():\n",
    "        print(f\"Avg_sim_{tier.capitalize()} = {value:.4f}\")\n"
   ],
   "outputs": [
    {
     "name": "stdout",
     "output_type": "stream",
     "text": [
      "\n",
      "Temperature 0.2\n",
      "Avg_sim_Bottom = 0.5327\n",
      "Avg_sim_Middle = 0.6039\n",
      "Avg_sim_Top = 0.5843\n",
      "\n",
      "Temperature 0.5\n",
      "Avg_sim_Bottom = 0.5325\n",
      "Avg_sim_Middle = 0.6026\n",
      "Avg_sim_Top = 0.5825\n",
      "\n",
      "Temperature 0.7\n",
      "Avg_sim_Bottom = 0.5326\n",
      "Avg_sim_Middle = 0.6033\n",
      "Avg_sim_Top = 0.5828\n"
     ]
    }
   ],
   "execution_count": 4
  }
 ],
 "metadata": {
  "kernelspec": {
   "display_name": "Python 3",
   "language": "python",
   "name": "python3"
  },
  "language_info": {
   "codemirror_mode": {
    "name": "ipython",
    "version": 2
   },
   "file_extension": ".py",
   "mimetype": "text/x-python",
   "name": "python",
   "nbconvert_exporter": "python",
   "pygments_lexer": "ipython2",
   "version": "2.7.6"
  }
 },
 "nbformat": 4,
 "nbformat_minor": 5
}
